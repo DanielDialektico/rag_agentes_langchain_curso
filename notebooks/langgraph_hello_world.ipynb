{
  "nbformat": 4,
  "nbformat_minor": 0,
  "metadata": {
    "colab": {
      "provenance": [],
      "authorship_tag": "ABX9TyPt0r5yaBI0LnJTlw8gWgBJ",
      "include_colab_link": true
    },
    "kernelspec": {
      "name": "python3",
      "display_name": "Python 3"
    },
    "language_info": {
      "name": "python"
    }
  },
  "cells": [
    {
      "cell_type": "markdown",
      "metadata": {
        "id": "view-in-github",
        "colab_type": "text"
      },
      "source": [
        "<a href=\"https://colab.research.google.com/github/DanielDialektico/rag_agentes_langchain_curso/blob/main/notebooks/langgraph_hello_world.ipynb\" target=\"_parent\"><img src=\"https://colab.research.google.com/assets/colab-badge.svg\" alt=\"Open In Colab\"/></a>"
      ]
    },
    {
      "cell_type": "markdown",
      "source": [
        "<img src=\"https://dialektico.com/wp-content/uploads/2023/03/MiniLogoW4.png\" alt=\"Dialéktico Logo\" />"
      ],
      "metadata": {
        "id": "Vc-8Grt7ORmW"
      }
    },
    {
      "cell_type": "markdown",
      "source": [
        "Este pequeño tutorial pertenece al curso de RAG y agentes con LangChain al que puedes acceder mediante la siguiente URL: https://www.youtube.com/playlist?list=PLlWTv9_GeWd32stuEMWpYOnxiVxnXaU6q\n",
        "\n",
        "Sigue los videos del curso para recibir instrucciones y contexto sobre la ejecución de este Notebook."
      ],
      "metadata": {
        "id": "FdVKmZZtOT3l"
      }
    },
    {
      "cell_type": "markdown",
      "source": [
        "<br>"
      ],
      "metadata": {
        "id": "ad-poWzqOWWd"
      }
    },
    {
      "cell_type": "markdown",
      "source": [
        "# Se instalan e importan las librerías"
      ],
      "metadata": {
        "id": "qFIVZvp0OZ2-"
      }
    },
    {
      "cell_type": "code",
      "source": [
        "!pip install langchain-core==0.3.51\n",
        "!pip install langgraph==0.3.27"
      ],
      "metadata": {
        "id": "8U_GtE_0tuGp"
      },
      "execution_count": null,
      "outputs": []
    },
    {
      "cell_type": "code",
      "execution_count": null,
      "metadata": {
        "id": "9dTpru6JOFTj"
      },
      "outputs": [],
      "source": [
        "# Se importan las librerías.\n",
        "import warnings\n",
        "from typing_extensions import Annotated, TypedDict\n",
        "from langgraph.graph import StateGraph\n",
        "from langchain_core.messages import HumanMessage, AnyMessage, AIMessage\n",
        "from IPython.display import Image, display\n",
        "from langgraph.graph import START\n",
        "from langchain_core.runnables.graph_mermaid import draw_mermaid_png, MermaidDrawMethod\n",
        "\n",
        "warnings.filterwarnings('ignore')"
      ]
    },
    {
      "cell_type": "markdown",
      "source": [
        "<br>"
      ],
      "metadata": {
        "id": "-FoCFQISWQSB"
      }
    },
    {
      "cell_type": "code",
      "source": [
        "def add(left, right):\n",
        "    \"\"\"Can also import `add` from the `operator` built-in.\"\"\"\n",
        "    return left + right\n",
        "\n",
        "class State(TypedDict):\n",
        "    messages: Annotated[list[AnyMessage], add]\n",
        "    extra_field: int\n",
        "\n",
        "def node(state: State):\n",
        "    new_message = AIMessage(\"Hello!\")\n",
        "    return {\"messages\": [new_message], \"extra_field\": 10}"
      ],
      "metadata": {
        "id": "jdjnYMqXHwWw"
      },
      "execution_count": null,
      "outputs": []
    },
    {
      "cell_type": "code",
      "source": [
        "graph = StateGraph(State).add_node(node).add_edge(START, \"node\").compile()\n",
        "\n",
        "result = graph.invoke({\"messages\": [HumanMessage(\"Hi\")]})\n",
        "\n",
        "for message in result[\"messages\"]:\n",
        "    message.pretty_print()"
      ],
      "metadata": {
        "id": "xT0mK6x8IUV_"
      },
      "execution_count": null,
      "outputs": []
    },
    {
      "cell_type": "code",
      "source": [
        "!npm install -g @mermaid-js/mermaid-cl"
      ],
      "metadata": {
        "id": "WTYx2JLTNznA"
      },
      "execution_count": null,
      "outputs": []
    },
    {
      "cell_type": "code",
      "source": [
        "# 2. Crear el archivo de configuración de puppeteer\n",
        "import json\n",
        "\n",
        "puppeteer_config = {\n",
        "    \"args\": [\"--no-sandbox\", \"--disable-setuid-sandbox\"]\n",
        "}\n",
        "\n",
        "with open(\"puppeteer-config.json\", \"w\") as f:\n",
        "    json.dump(puppeteer_config, f)\n",
        "\n",
        "# 3. Obtener el código mermaid del grafo\n",
        "mermaid_code = graph.get_graph().draw_mermaid()\n",
        "\n",
        "# 4. Guardarlo en un archivo temporal\n",
        "with open(\"temp.mmd\", \"w\") as f:\n",
        "    f.write(mermaid_code)\n",
        "\n",
        "# 5. Ejecutar mmdc usando la config especial\n",
        "!mmdc -i temp.mmd -o temp.png --backgroundColor white --puppeteerConfigFile puppeteer-config.json\n",
        "\n",
        "# 6. Mostrar la imagen\n",
        "from IPython.display import Image, display\n",
        "display(Image(\"temp.png\"))"
      ],
      "metadata": {
        "id": "8pxhPAcfNgVo"
      },
      "execution_count": null,
      "outputs": []
    },
    {
      "cell_type": "code",
      "source": [
        "# Dialektico Machine learning practices © 2025 by Daniel Antonio García Escobar\n",
        "# is licensed under CC BY-NC 4.0. To view a copy of this license,\n",
        "# visit https://creativecommons.org/licenses/by-nc/4.0/\n",
        "\n",
        "# Creative Commons Attribution-NonCommercial-ShareAlike 4.0 International\n",
        "# Public License"
      ],
      "metadata": {
        "id": "7ly3JFP2WEOd"
      },
      "execution_count": null,
      "outputs": []
    }
  ]
}