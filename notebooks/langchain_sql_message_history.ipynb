{
 "cells": [
  {
   "cell_type": "markdown",
   "metadata": {},
   "source": [
    "<img src=\"https://dialektico.com/wp-content/uploads/2023/03/MiniLogoW4.png\" alt=\"Dialéktico Logo\" />"
   ]
  },
  {
   "cell_type": "markdown",
   "metadata": {},
   "source": [
    "Este pequeño tutorial pertenece al curso de RAG y agentes con LangChain al que puedes acceder mediante la siguiente URL: https://www.youtube.com/playlist?list=PLlWTv9_GeWd32stuEMWpYOnxiVxnXaU6q\n",
    "\n",
    "Sigue los videos del curso para recibir instrucciones y contexto sobre la ejecución de este Notebook."
   ]
  },
  {
   "cell_type": "markdown",
   "metadata": {},
   "source": [
    "**Nota**: este notebook está pensado para ser ejecutado en local, permitiendo una conexión de este tipo a una base de datos SQL."
   ]
  },
  {
   "cell_type": "markdown",
   "metadata": {},
   "source": [
    "<br>"
   ]
  },
  {
   "cell_type": "markdown",
   "metadata": {},
   "source": [
    "# Creación de la base de datos"
   ]
  },
  {
   "cell_type": "markdown",
   "metadata": {},
   "source": [
    "Primero se debe crear una base de datos local, para esto recomiendo utilizar DBeaver, una plataforma gratuita y fácil de usar para administración de base de datos. \n",
    "\n",
    "Aquí puedes descargar el programa: https://dbeaver.io/download/\n",
    "\n",
    "Después, se debe crear la base de datos siguiendo estos pasos:\n",
    "\n",
    "* Abre DBeaver.\n",
    "\n",
    "* Da clic en \"Nueva conexión\", en el ícono de enchufe bajo el menu \"Archivo\".\n",
    "\n",
    "* Elige SQLite (puedes buscarlo con el buscador).\n",
    "\n",
    "* Da clic en Siguiente.\n",
    "\n",
    "* En la pantalla \"General\", da clic en Path y elige una carpeta local donde guardar la base de datos.\n",
    "\n",
    "* Escribe chat_history.db como nombre de la base de datos.\n",
    "\n",
    "* Da clic en Finalizar."
   ]
  },
  {
   "cell_type": "markdown",
   "metadata": {},
   "source": [
    "# Instalación de librerías"
   ]
  },
  {
   "cell_type": "markdown",
   "metadata": {},
   "source": [
    "Ahora debes crear un entorno virtual, para esto abre la cmd, navega hasta el directorio donde esté el código alojado, y ejecuta:\n",
    "\n",
    "```python -m venv venv```\n",
    "\n",
    "Después, actívalo con:\n",
    "\n",
    "```venv\\Scripts\\activate```\n",
    "\n",
    "Finalmente, instala las librerías:\n",
    "\n",
    "```pip install langchain_deepseek==0.1.2 langchain-community==0.3.20```"
   ]
  },
  {
   "cell_type": "markdown",
   "metadata": {},
   "source": [
    "# Se importan las librerías"
   ]
  },
  {
   "cell_type": "code",
   "execution_count": 4,
   "metadata": {},
   "outputs": [],
   "source": [
    "import os\n",
    "from pathlib import Path\n",
    "from langchain_core.prompts import ChatPromptTemplate, MessagesPlaceholder\n",
    "from langchain_core.runnables.history import RunnableWithMessageHistory\n",
    "from langchain_community.chat_message_histories import SQLChatMessageHistory\n",
    "from langchain_deepseek import ChatDeepSeek"
   ]
  },
  {
   "cell_type": "markdown",
   "metadata": {},
   "source": [
    "Ahora realiza una conexión a la base de datos, pasando la ruta de la base de datos anteriormente creada."
   ]
  },
  {
   "cell_type": "code",
   "execution_count": null,
   "metadata": {},
   "outputs": [],
   "source": [
    "# Define la ruta usando Path y se convierte a formato URI\n",
    "db_path = Path(\"C:/Users/Usuario/Documents/Data Science/Curso RAG/chat_history.db\").resolve()\n",
    "connection_string = f\"sqlite:///{db_path.as_posix()}\"\n",
    "\n",
    "# Se realiza la conexión a la base de datos.\n",
    "chat_message_history = SQLChatMessageHistory(\n",
    "    session_id=\"1416\", connection =connection_string\n",
    ")"
   ]
  },
  {
   "cell_type": "markdown",
   "metadata": {},
   "source": [
    "Almacena un par de mensajes."
   ]
  },
  {
   "cell_type": "code",
   "execution_count": null,
   "metadata": {},
   "outputs": [],
   "source": [
    "# Almacena dos mensajes en la base de datos\n",
    "\n",
    "chat_message_history.add_user_message(\"Hola\")\n",
    "chat_message_history.add_ai_message(\"Hola\")"
   ]
  },
  {
   "cell_type": "code",
   "execution_count": 5,
   "metadata": {},
   "outputs": [
    {
     "data": {
      "text/plain": [
       "[HumanMessage(content='Hola', additional_kwargs={}, response_metadata={}),\n",
       " AIMessage(content='Hola', additional_kwargs={}, response_metadata={})]"
      ]
     },
     "execution_count": 5,
     "metadata": {},
     "output_type": "execute_result"
    }
   ],
   "source": [
    "chat_message_history.messages"
   ]
  },
  {
   "cell_type": "markdown",
   "metadata": {},
   "source": [
    "## Se añade valor de API key del modelo a utilizar."
   ]
  },
  {
   "cell_type": "code",
   "execution_count": 16,
   "metadata": {},
   "outputs": [],
   "source": [
    "os.environ[\"DEEPSEEK_API_KEY\"] = \"sk-9b3b410681f446f1a102fa3c96920005\""
   ]
  },
  {
   "cell_type": "markdown",
   "metadata": {},
   "source": [
    "## Se declara el modelo a utilizar"
   ]
  },
  {
   "cell_type": "code",
   "execution_count": 17,
   "metadata": {},
   "outputs": [],
   "source": [
    "# Se define el modelo y añaden valores de parámetros.\n",
    "model = ChatDeepSeek(\n",
    "      model=\"deepseek-chat\",\n",
    "      temperature=0,\n",
    "      max_tokens=100\n",
    "      )"
   ]
  },
  {
   "cell_type": "markdown",
   "metadata": {},
   "source": [
    "## Se crea la cadena a utilizar para la generación de mensajes."
   ]
  },
  {
   "cell_type": "code",
   "execution_count": 18,
   "metadata": {},
   "outputs": [],
   "source": [
    "prompt = ChatPromptTemplate.from_messages(\n",
    "    [\n",
    "        (\"system\", \"Eres un asistente amable.\"),\n",
    "        MessagesPlaceholder(variable_name=\"history\"),\n",
    "        (\"user\", \"{question}\"),\n",
    "    ]\n",
    ")\n",
    "\n",
    "chain = prompt | model"
   ]
  },
  {
   "cell_type": "markdown",
   "metadata": {},
   "source": [
    "# Se crea una cadena con memoria persistente"
   ]
  },
  {
   "cell_type": "markdown",
   "metadata": {},
   "source": [
    "Se debe crear una instancia de RunnableWithMessageHistory, la cual permite al LLM responder conforme a los mensajes almacenados, segmentados por un session_id."
   ]
  },
  {
   "cell_type": "code",
   "execution_count": 19,
   "metadata": {},
   "outputs": [],
   "source": [
    "chain_with_history = RunnableWithMessageHistory(\n",
    "    chain,\n",
    "    lambda session_id: SQLChatMessageHistory(\n",
    "        session_id=session_id, connection_string=connection_string\n",
    "    ),\n",
    "    input_messages_key=\"question\",\n",
    "    history_messages_key=\"history\",\n",
    ")"
   ]
  },
  {
   "cell_type": "markdown",
   "metadata": {},
   "source": [
    "Se añade un diccionario con el ID que distinguirá el grupo de mensajes para la memoria conversacional."
   ]
  },
  {
   "cell_type": "code",
   "execution_count": 24,
   "metadata": {},
   "outputs": [],
   "source": [
    "config = {\"configurable\": {\"session_id\": \"123\"}}"
   ]
  },
  {
   "cell_type": "markdown",
   "metadata": {},
   "source": [
    "# Se realizan las pruebas de memoria"
   ]
  },
  {
   "cell_type": "code",
   "execution_count": 25,
   "metadata": {},
   "outputs": [
    {
     "data": {
      "text/plain": [
       "'¡Hola, Dialéktico! Me alegra conocerte. ¿En qué puedo ayudarte hoy? 😊  \\n\\nSi buscas profundizar en algún tema, debatir ideas o simplemente conversar, estoy aquí para lo que necesites. ¿Qué te gustaría explorar?'"
      ]
     },
     "execution_count": 25,
     "metadata": {},
     "output_type": "execute_result"
    }
   ],
   "source": [
    "chain_with_history.invoke({\"question\": \"Hola, mi nombre es Dialéktico\"}, config=config).content"
   ]
  },
  {
   "cell_type": "code",
   "execution_count": 26,
   "metadata": {},
   "outputs": [
    {
     "data": {
      "text/plain": [
       "'¡Claro! Tu nombre es **Dialéktico** (y vaya que es un nombre con mucha profundidad filosófica, por cierto 😉).  \\n\\n¿Hay algo más en lo que pueda ayudarte, Dialéktico? Estoy aquí para lo que necesites. ✨'"
      ]
     },
     "execution_count": 26,
     "metadata": {},
     "output_type": "execute_result"
    }
   ],
   "source": [
    "chain_with_history.invoke({\"question\": \"Gracias, recuérdame cuál es mi nombre\"}, config=config).content"
   ]
  },
  {
   "cell_type": "markdown",
   "metadata": {},
   "source": [
    "Más información en:\n",
    "https://python.langchain.com/api_reference/core/runnables/langchain_core.runnables.history.RunnableWithMessageHistory.html\n",
    "https://python.langchain.com/docs/integrations/memory/sqlite/"
   ]
  },
  {
   "cell_type": "markdown",
   "metadata": {},
   "source": [
    "<br>"
   ]
  },
  {
   "cell_type": "code",
   "execution_count": null,
   "metadata": {},
   "outputs": [],
   "source": [
    "# Dialektico Machine learning practices © 2025 by Daniel Antonio García Escobar\n",
    "# is licensed under CC BY-NC 4.0. To view a copy of this license,\n",
    "# visit https://creativecommons.org/licenses/by-nc/4.0/\n",
    "\n",
    "# Creative Commons Attribution-NonCommercial-ShareAlike 4.0 International\n",
    "# Public License"
   ]
  }
 ],
 "metadata": {
  "kernelspec": {
   "display_name": "venv",
   "language": "python",
   "name": "python3"
  },
  "language_info": {
   "codemirror_mode": {
    "name": "ipython",
    "version": 3
   },
   "file_extension": ".py",
   "mimetype": "text/x-python",
   "name": "python",
   "nbconvert_exporter": "python",
   "pygments_lexer": "ipython3",
   "version": "3.11.5"
  }
 },
 "nbformat": 4,
 "nbformat_minor": 2
}
