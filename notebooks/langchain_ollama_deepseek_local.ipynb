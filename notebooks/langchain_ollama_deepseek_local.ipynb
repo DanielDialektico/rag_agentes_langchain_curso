{
 "cells": [
  {
   "cell_type": "markdown",
   "metadata": {},
   "source": [
    "<img src=\"https://dialektico.com/wp-content/uploads/2023/03/MiniLogoW4.png\" alt=\"Dialéktico Logo\" />"
   ]
  },
  {
   "cell_type": "markdown",
   "metadata": {},
   "source": [
    "Este pequeño tutorial pertenece al curso de RAG y agentes con LangChain al que puedes acceder mediante la siguiente URL: https://www.youtube.com/playlist?list=PLlWTv9_GeWd32stuEMWpYOnxiVxnXaU6q\n",
    "\n",
    "Sigue los videos del curso para recibir instrucciones y contexto sobre la ejecución de este Notebook."
   ]
  },
  {
   "cell_type": "markdown",
   "metadata": {},
   "source": [
    "**Nota**: este notebook está pensado para ser ejecutado en local."
   ]
  },
  {
   "cell_type": "markdown",
   "metadata": {},
   "source": [
    "<br>"
   ]
  },
  {
   "cell_type": "markdown",
   "metadata": {},
   "source": [
    "# Requisitos previos\n",
    "\n",
    "Antes de comenzar, asegúrate de tener instalado:\n",
    "\n",
    "- Python 3.9+\n",
    "\n",
    "Requisitos de hardware:\n",
    "- RAM: Al menos 8 GB de RAM, 16 RAM recomendados.\n",
    "- CPU: Procesador Intel Core i5 o AMD Ryzen 5 (mínimo).\n",
    "- GPU: NVIDIA GPU con al menos 6GB VRAM (no es necesaria)."
   ]
  },
  {
   "cell_type": "markdown",
   "metadata": {},
   "source": [
    "# Instalación de Ollama\n",
    "\n",
    "- Descarga el instalador correspondiente a tu sistema operativo en https://ollama.com/.\n",
    "- Realiza la instalación correspondiente.\n",
    "- Una vez instalado, abre una terminal (CMD o Terminal en VS Code) y ejecuta: ```ollama --version```."
   ]
  },
  {
   "cell_type": "markdown",
   "metadata": {},
   "source": [
    "# Descargar el modelo DeepSeek\n",
    "\n",
    "Con Ollama instalado, descarga el modelo DeepSeek localmente: ```ollama pull deepseek-r1:1.5b```\n",
    "\n",
    "Este proceso descargará varios cientos de MB o más, dependiendo del modelo. Solo se hace una vez."
   ]
  },
  {
   "cell_type": "markdown",
   "metadata": {},
   "source": [
    "# Configura un entorno virtual\n",
    "\n",
    "- Utiliza: ```python -m venv venv```\n",
    "- Activa el entorno en Windows: ```venv\\Scripts\\activate```\n",
    "- En Linux: ```source venv/bin/activate```"
   ]
  },
  {
   "cell_type": "markdown",
   "metadata": {},
   "source": [
    "# Instalación de librerías"
   ]
  },
  {
   "cell_type": "markdown",
   "metadata": {},
   "source": [
    "Finalmente, instala las librerías:\n",
    "\n",
    "```pip install langchain==0.3.25 langchain-ollama==0.3.2```"
   ]
  },
  {
   "cell_type": "markdown",
   "metadata": {},
   "source": [
    "# Se importan las librerías"
   ]
  },
  {
   "cell_type": "code",
   "execution_count": null,
   "metadata": {},
   "outputs": [],
   "source": [
    "import re\n",
    "from langchain_core.prompts import PromptTemplate\n",
    "from langchain_ollama import ChatOllama"
   ]
  },
  {
   "cell_type": "markdown",
   "metadata": {},
   "source": [
    "# Se utiliza el modelo"
   ]
  },
  {
   "cell_type": "markdown",
   "metadata": {},
   "source": [
    "Se carga el modelo a utilizar:"
   ]
  },
  {
   "cell_type": "code",
   "execution_count": null,
   "metadata": {},
   "outputs": [],
   "source": [
    "# Cargar el modelo en LangChain\n",
    "llm = ChatOllama(model=\"deepseek-r1:1.5b\")"
   ]
  },
  {
   "cell_type": "markdown",
   "metadata": {},
   "source": [
    "Se define un prompt:"
   ]
  },
  {
   "cell_type": "code",
   "execution_count": null,
   "metadata": {},
   "outputs": [],
   "source": [
    "# Se define un prompt.\n",
    "prompt = \"Hola\""
   ]
  },
  {
   "cell_type": "markdown",
   "metadata": {},
   "source": [
    "Se genera la respuesta:"
   ]
  },
  {
   "cell_type": "code",
   "execution_count": null,
   "metadata": {},
   "outputs": [],
   "source": [
    "response = llm.invoke(prompt)"
   ]
  },
  {
   "cell_type": "code",
   "execution_count": null,
   "metadata": {},
   "outputs": [],
   "source": [
    "response.content"
   ]
  },
  {
   "cell_type": "markdown",
   "metadata": {},
   "source": [
    "Se limpia la respuesta:"
   ]
  },
  {
   "cell_type": "code",
   "execution_count": null,
   "metadata": {},
   "outputs": [],
   "source": [
    "# Filtrar <think> usando expresiones regulares\n",
    "clean_response = re.sub(r\"<think>.*?</think>\", \"\", response.content, flags=re.DOTALL).strip()\n",
    "\n",
    "print(clean_response)"
   ]
  },
  {
   "cell_type": "markdown",
   "metadata": {},
   "source": [
    "Se define un prompt de simulación RAG:"
   ]
  },
  {
   "cell_type": "code",
   "execution_count": null,
   "metadata": {},
   "outputs": [],
   "source": [
    "# Se crea un prompt.\n",
    "prompt = PromptTemplate.from_template(\"\"\"\n",
    "Eres un asistente que responde de manera precisa y directa. No expliques tus razonamientos, solo responde con la información dada.\n",
    "\n",
    "Información: La mochila roja cuesta 200 pesos. La mochila azul cuesta 300 pesos.\n",
    "Pregunta: {question}\n",
    "\"\"\")"
   ]
  },
  {
   "cell_type": "markdown",
   "metadata": {},
   "source": [
    "Se genera la respuesta:"
   ]
  },
  {
   "cell_type": "code",
   "execution_count": null,
   "metadata": {},
   "outputs": [],
   "source": [
    "# Generar respuesta\n",
    "question = \"¿Cuánto cuesta la mochila azul?\"\n",
    "response = llm.invoke(prompt.format(question=question))"
   ]
  },
  {
   "cell_type": "code",
   "execution_count": null,
   "metadata": {},
   "outputs": [],
   "source": [
    "response.content"
   ]
  },
  {
   "cell_type": "markdown",
   "metadata": {},
   "source": [
    "Se limpia:"
   ]
  },
  {
   "cell_type": "code",
   "execution_count": null,
   "metadata": {},
   "outputs": [],
   "source": [
    "# Filtrar <think> usando expresiones regulares\n",
    "clean_response = re.sub(r\"<think>.*?</think>\", \"\", response.content, flags=re.DOTALL).strip()\n",
    "\n",
    "print(clean_response)"
   ]
  },
  {
   "cell_type": "code",
   "execution_count": null,
   "metadata": {},
   "outputs": [],
   "source": [
    "# Dialektico Machine learning practices © 2025 by Daniel Antonio García Escobar\n",
    "# is licensed under CC BY-NC 4.0. To view a copy of this license,\n",
    "# visit https://creativecommons.org/licenses/by-nc/4.0/\n",
    "\n",
    "# Creative Commons Attribution-NonCommercial-ShareAlike 4.0 International\n",
    "# Public License"
   ]
  }
 ],
 "metadata": {
  "kernelspec": {
   "display_name": "venv",
   "language": "python",
   "name": "python3"
  },
  "language_info": {
   "codemirror_mode": {
    "name": "ipython",
    "version": 3
   },
   "file_extension": ".py",
   "mimetype": "text/x-python",
   "name": "python",
   "nbconvert_exporter": "python",
   "pygments_lexer": "ipython3",
   "version": "3.13.3"
  }
 },
 "nbformat": 4,
 "nbformat_minor": 2
}
