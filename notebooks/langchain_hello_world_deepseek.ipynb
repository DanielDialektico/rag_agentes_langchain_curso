{
  "nbformat": 4,
  "nbformat_minor": 0,
  "metadata": {
    "colab": {
      "provenance": [],
      "authorship_tag": "ABX9TyN0qCT49rVQ3DtYekVzLy7L",
      "include_colab_link": true
    },
    "kernelspec": {
      "name": "python3",
      "display_name": "Python 3"
    },
    "language_info": {
      "name": "python"
    }
  },
  "cells": [
    {
      "cell_type": "markdown",
      "metadata": {
        "id": "view-in-github",
        "colab_type": "text"
      },
      "source": [
        "<a href=\"https://colab.research.google.com/github/DanielDialektico/rag_agentes_langchain_curso/blob/main/notebooks/langchain_hello_world_deepseek.ipynb\" target=\"_parent\"><img src=\"https://colab.research.google.com/assets/colab-badge.svg\" alt=\"Open In Colab\"/></a>"
      ]
    },
    {
      "cell_type": "markdown",
      "source": [
        "<img src=\"https://dialektico.com/wp-content/uploads/2023/03/MiniLogoW4.png\" alt=\"Dialéktico Logo\" />"
      ],
      "metadata": {
        "id": "lwqpzW1O4zGA"
      }
    },
    {
      "cell_type": "markdown",
      "source": [
        "Este pequeño tutorial pertenece al curso de RAG con Langchain al que puedes acceder mediante la siguiente URL: https://www.youtube.com/playlist?list=PLlWTv9_GeWd32stuEMWpYOnxiVxnXaU6q\n",
        "\n",
        "Sigue los videos del curso para recibir instrucciones y contexto sobre la ejecución de este Notebook."
      ],
      "metadata": {
        "id": "RTHmHU7J48tv"
      }
    },
    {
      "cell_type": "markdown",
      "source": [
        "<br>"
      ],
      "metadata": {
        "id": "VGlbNZul7GkA"
      }
    },
    {
      "cell_type": "markdown",
      "source": [
        "# Se instalan e importan las librerías"
      ],
      "metadata": {
        "id": "Js0B4LPd7AmA"
      }
    },
    {
      "cell_type": "code",
      "source": [
        "!pip install langchain==0.3.20\n",
        "!pip install langchain_deepseek==0.1.2\n",
        "\n",
        "import os\n",
        "from langchain_deepseek import ChatDeepSeek\n",
        "from google.colab import userdata"
      ],
      "metadata": {
        "id": "gu6WWYGh6LLo"
      },
      "execution_count": null,
      "outputs": []
    },
    {
      "cell_type": "markdown",
      "source": [
        "## Se añade valor de API key mediante un secreto"
      ],
      "metadata": {
        "id": "LAtRRHxk5tcH"
      }
    },
    {
      "cell_type": "code",
      "execution_count": null,
      "metadata": {
        "id": "tbClMP1q4twC"
      },
      "outputs": [],
      "source": [
        "# Se añade la API key como variable de ambiente desde un secreto en Colab.\n",
        "os.environ[\"DEEPSEEK_API_KEY\"] = userdata.get('DEEPSEEK_API_KEY')"
      ]
    },
    {
      "cell_type": "markdown",
      "source": [
        "## Se declara el modelo a utilizar"
      ],
      "metadata": {
        "id": "nE2jZyMH6tVo"
      }
    },
    {
      "cell_type": "code",
      "source": [
        "# Se define el modelo.\n",
        "model = ChatDeepSeek(model=\"deepseek-chat\")"
      ],
      "metadata": {
        "id": "9kPKxym05yCX"
      },
      "execution_count": null,
      "outputs": []
    },
    {
      "cell_type": "markdown",
      "source": [
        "## Se utiliza el modelo"
      ],
      "metadata": {
        "id": "_2MIKaCs7brg"
      }
    },
    {
      "cell_type": "code",
      "source": [
        "response = model.invoke(\"Hola mundo\")\n",
        "\n",
        "response.content"
      ],
      "metadata": {
        "id": "sBg2H25C7abI"
      },
      "execution_count": null,
      "outputs": []
    },
    {
      "cell_type": "markdown",
      "source": [
        "<br>"
      ],
      "metadata": {
        "id": "j4B96hTk8H5o"
      }
    },
    {
      "cell_type": "markdown",
      "source": [
        "* Información sobre runnables en Langchain: https://python.langchain.com/docs/concepts/runnables/\n",
        "\n",
        "* Modelos disponibles: https://python.langchain.com/docs/integrations/chat/"
      ],
      "metadata": {
        "id": "-dGywduVK_kt"
      }
    },
    {
      "cell_type": "markdown",
      "source": [
        "<br>"
      ],
      "metadata": {
        "id": "oIiU14p6WVh5"
      }
    },
    {
      "cell_type": "code",
      "source": [
        "# Dialektico Machine learning practices © 2025 by Daniel Antonio García Escobar\n",
        "# is licensed under CC BY-NC 4.0. To view a copy of this license,\n",
        "# visit https://creativecommons.org/licenses/by-nc/4.0/\n",
        "\n",
        "# Creative Commons Attribution-NonCommercial-ShareAlike 4.0 International\n",
        "# Public License"
      ],
      "metadata": {
        "id": "7pl88oJx8HUg"
      },
      "execution_count": null,
      "outputs": []
    }
  ]
}